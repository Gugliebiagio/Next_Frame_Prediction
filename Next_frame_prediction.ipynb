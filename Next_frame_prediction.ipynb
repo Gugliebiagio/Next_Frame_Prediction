{
  "cells": [
    {
      "cell_type": "markdown",
      "metadata": {
        "id": "bE9v9loBK-3t"
      },
      "source": [
        "Guglielmo Biagini\n",
        "\n",
        "guglielmo.biagini@studio.unibo.it\n",
        "\n",
        "ID number:0001092693"
      ]
    },
    {
      "cell_type": "markdown",
      "metadata": {
        "id": "v85Qq_p0my49"
      },
      "source": [
        "# Next frame prediction\n",
        "\n",
        "The project consists of predicting the next frame in a short movie sequence.\n",
        "\n",
        "For this project, we shall use the Moving MNIST dataset, composed of 10,000 video sequences, each consisting of 20 frames. In each video sequence, two digits move independently around the frame, which has a spatial resolution of 64×64 pixels. The digits frequently intersect with each other and bounce off the edges of the frame.\n",
        "\n",
        "While each sequence has a lenght of 20, your are supposed to use **only 3 consecutive frames as input**, and **predict the next one**.\n",
        "\n",
        "The metric used to evalaute the quality of the predicted frame is Mean Squared Error."
      ]
    },
    {
      "cell_type": "code",
      "execution_count": null,
      "metadata": {
        "id": "Wlg8ZSz3FHFh"
      },
      "outputs": [],
      "source": [
        "import tensorflow as tf\n",
        "import tensorflow_datasets as tfds\n",
        "from tensorflow import keras\n",
        "from keras import layers\n",
        "import os\n",
        "import math\n",
        "import matplotlib.pyplot as plt\n",
        "import numpy as np\n",
        "from keras.api._v2.keras import callbacks"
      ]
    },
    {
      "cell_type": "code",
      "execution_count": null,
      "metadata": {
        "colab": {
          "base_uri": "https://localhost:8080/",
          "height": 188,
          "referenced_widgets": [
            "d2d516e478fd426cbf48622bee161395",
            "31461e5d8670472daf31e253b6748b48",
            "3490d13814154c3c93d841df5095f8c9",
            "5a9caf0df396430d97e3d431368f63a9",
            "42c97a2f482340b6afcda0042647b79a",
            "4f4ddb823b0c4765a14cd92e72956336",
            "63677e05194945998e975f048073dfa3",
            "849aa3d3d9f5421dae1961551dbffbbe",
            "7368456613684e7d87f0ef1cfcf4556f",
            "7118d675304f46c09a6debaade235080",
            "595895cd8f304720bbe77a884310549e",
            "88cefc4e598d42ca906abd18d0ef7373",
            "1fbbe91df52842bbac0da62d5431a57a",
            "b87d7c131c9a4ec3a88b7d9aa10fc16c",
            "f16324304426464480bf57f0496ff5c7",
            "26a562b5d17b444db7bc2a9cfc16ac0a",
            "25903855ac184ba885c90231eca9445a",
            "b2958ac3273743ad8af08d48319a2501",
            "fa3967d7032742a29f3bfc03e3fa675d",
            "14aac7254b0b4b538cc66c73b1b51827",
            "15a2ad4b32104723b41b027cb7506471",
            "e6820f273f02473ca3523a60fa5caf82",
            "e771b2e26da0439ea40cedfc7772c147",
            "a0d244a0474e4718bfa8b7f2b3f36aee",
            "c09088b1b8be4da7bd1157eeaab3bb33",
            "9e24e771b1024f2087873e272f8e7a9e",
            "ebf2da2c74ed4ece9c1003d7b0c9b682",
            "06ae6dc4c39842b3b348bd20141af96d",
            "d3d200c15425456f825b6d67d00aed6b",
            "9be156b5e7e345cbb5eb0cdf51c4de09",
            "7dc56c485b2f4b9eb9b74ecc85deb7e8",
            "619b5c928fa94a2da77354f023c5ee1f",
            "3427178a4a2a4ad9b7230563b91ca916",
            "bb6f453b40cc4e37acce5d1f6642a0e6",
            "78e3a976c24d45d59ca5ef684231b2c1",
            "6a6ea080b4084643a5603f1618254621",
            "ef2d45008a2f4adca8ff962a659fd646",
            "c4f7dbe73849490aba9c748d01424941",
            "5fb0beefcef54fb692e58a1c0ff8b9d1",
            "cbf573f4f37f4173852f395857585d64",
            "c73690d334134fa798c81c3389fa58f8",
            "8c7bbec41cd9416ab84f4ea00127b746",
            "8dc25370fcdf4e0fa2d1cb0ee8229301",
            "3f22e279ce65404e9eb7c9bc0ded8638",
            "32cd426ecee648a5b238062c9253feb9",
            "1510e093bb2d4e58bb9b7d25f7fc6e4c",
            "08a236be2cb2420c9b39d6cf5119a367",
            "8093800090534821bb358e94271896c5",
            "51fceac60de34386bc275cd04d762a03",
            "69272d2ff5a84329b9c6619c1634a3ea",
            "203f05b2551f4d51a50735f1d5c96370",
            "03c7a738ebf849cd8da8af3fbc074b39",
            "54d2c19d40f545edae0cd2728d806d76",
            "a645d67e9cc54869b2b67a73cf0fb31d",
            "f75059f823964935813061f0fb37e852"
          ]
        },
        "id": "0nyzhFRDVuFw",
        "outputId": "c6a1dde8-7d2b-496b-f00f-408c8db54759"
      },
      "outputs": [
        {
          "name": "stderr",
          "output_type": "stream",
          "text": [
            "WARNING:absl:You use TensorFlow DType <dtype: 'uint8'> in tfds.features This will soon be deprecated in favor of NumPy DTypes. In the meantime it was converted to uint8.\n"
          ]
        },
        {
          "name": "stdout",
          "output_type": "stream",
          "text": [
            "Downloading and preparing dataset Unknown size (download: Unknown size, generated: 91.70 MiB, total: 91.70 MiB) to /root/tensorflow_datasets/moving_mnist/1.0.0...\n"
          ]
        },
        {
          "data": {
            "application/vnd.jupyter.widget-view+json": {
              "model_id": "d2d516e478fd426cbf48622bee161395",
              "version_major": 2,
              "version_minor": 0
            },
            "text/plain": [
              "Dl Completed...: 0 url [00:00, ? url/s]"
            ]
          },
          "metadata": {},
          "output_type": "display_data"
        },
        {
          "data": {
            "application/vnd.jupyter.widget-view+json": {
              "model_id": "88cefc4e598d42ca906abd18d0ef7373",
              "version_major": 2,
              "version_minor": 0
            },
            "text/plain": [
              "Dl Size...: 0 MiB [00:00, ? MiB/s]"
            ]
          },
          "metadata": {},
          "output_type": "display_data"
        },
        {
          "data": {
            "application/vnd.jupyter.widget-view+json": {
              "model_id": "e771b2e26da0439ea40cedfc7772c147",
              "version_major": 2,
              "version_minor": 0
            },
            "text/plain": [
              "Generating splits...:   0%|          | 0/1 [00:00<?, ? splits/s]"
            ]
          },
          "metadata": {},
          "output_type": "display_data"
        },
        {
          "data": {
            "application/vnd.jupyter.widget-view+json": {
              "model_id": "bb6f453b40cc4e37acce5d1f6642a0e6",
              "version_major": 2,
              "version_minor": 0
            },
            "text/plain": [
              "Generating test examples...:   0%|          | 0/10000 [00:00<?, ? examples/s]"
            ]
          },
          "metadata": {},
          "output_type": "display_data"
        },
        {
          "data": {
            "application/vnd.jupyter.widget-view+json": {
              "model_id": "32cd426ecee648a5b238062c9253feb9",
              "version_major": 2,
              "version_minor": 0
            },
            "text/plain": [
              "Shuffling /root/tensorflow_datasets/moving_mnist/1.0.0.incompleteINNDOM/moving_mnist-test.tfrecord*...:   0%| …"
            ]
          },
          "metadata": {},
          "output_type": "display_data"
        },
        {
          "name": "stderr",
          "output_type": "stream",
          "text": [
            "WARNING:absl:`FeatureConnector.dtype` is deprecated. Please change your code to use NumPy with the field `FeatureConnector.np_dtype` or use TensorFlow with the field `FeatureConnector.tf_dtype`.\n",
            "WARNING:absl:`FeatureConnector.dtype` is deprecated. Please change your code to use NumPy with the field `FeatureConnector.np_dtype` or use TensorFlow with the field `FeatureConnector.tf_dtype`.\n"
          ]
        },
        {
          "name": "stdout",
          "output_type": "stream",
          "text": [
            "Dataset moving_mnist downloaded and prepared to /root/tensorflow_datasets/moving_mnist/1.0.0. Subsequent calls will reuse this data.\n"
          ]
        }
      ],
      "source": [
        "ds = tfds.as_numpy(tfds.load(\n",
        "    'moving_mnist',\n",
        "    split='test',\n",
        "    batch_size=-1\n",
        "))\n",
        "sequences = ds['image_sequence']"
      ]
    },
    {
      "cell_type": "markdown",
      "metadata": {
        "id": "JXFR88VToaSz"
      },
      "source": [
        "The dataset is composed of 10000 sequences of 20 frames each. Each (grayscale) frame has dimnesion 64x64"
      ]
    },
    {
      "cell_type": "code",
      "execution_count": null,
      "metadata": {
        "colab": {
          "base_uri": "https://localhost:8080/"
        },
        "id": "ZkS8Z9bXVxVG",
        "outputId": "13fb84d5-829a-436c-9653-2de69c54b15f"
      },
      "outputs": [
        {
          "name": "stdout",
          "output_type": "stream",
          "text": [
            "(10000, 20, 64, 64, 1)\n",
            "0.0 1.0\n"
          ]
        }
      ],
      "source": [
        "sequences = ds['image_sequence']\n",
        "sequences = sequences/255.    #normalize the data\n",
        "print(sequences.shape)\n",
        "print(np.min(sequences),np.max(sequences))"
      ]
    },
    {
      "cell_type": "markdown",
      "metadata": {
        "id": "xEJxqJ0SotTn"
      },
      "source": [
        "Let us split the dataset in training, validation and testing.\n",
        "You are supposed to evaluate the performance of your model using MSE over the full test set."
      ]
    },
    {
      "cell_type": "code",
      "execution_count": null,
      "metadata": {
        "id": "CZSAjVd9bYhl"
      },
      "outputs": [],
      "source": [
        "trainset = sequences[:8000]\n",
        "valset = sequences[8000:9000]\n",
        "testset = sequences[9000:10000]"
      ]
    },
    {
      "cell_type": "markdown",
      "metadata": {
        "id": "Ro84EIPjpCDW"
      },
      "source": [
        "Here is a simple generator, creating the input sequences of 3 frames, and the expected output, namely the next frame."
      ]
    },
    {
      "cell_type": "code",
      "execution_count": null,
      "metadata": {
        "id": "ZzzBAxNwKOGt"
      },
      "outputs": [],
      "source": [
        "def image_generator(dataset,batchsize=16,seqlen=4):\n",
        "    while True:\n",
        "      batch_x = np.zeros((batchsize,seqlen-1,64,64,1))\n",
        "      batch_y = np.zeros((batchsize,1,64,64,1))\n",
        "      ran = np.random.randint(dataset.shape[0],size=batchsize)\n",
        "      minibatch = dataset[ran]\n",
        "      #these sequences have length 20; we reduce them to seqlen\n",
        "      for i in range(batchsize):\n",
        "          random_start = np.random.randint(0,20-seqlen)\n",
        "          random_end = random_start+seqlen-1\n",
        "          batch_x[i] = minibatch[i,random_start:random_end,:,:,:]\n",
        "          batch_y[i] = minibatch[i,random_end:random_end+1:,:,:]\n",
        "          #print(batch_x.shape,batch_y.shape)\n",
        "          #print(batch_x.min(),batch_x.max())\n",
        "          #print(batch_x.min(),batch_x.max())\n",
        "      yield(batch_x,batch_y)"
      ]
    },
    {
      "cell_type": "code",
      "execution_count": null,
      "metadata": {
        "id": "V-84FZcphrsf"
      },
      "outputs": [],
      "source": [
        "def show_list(images): #takes in input a list of images and plot them\n",
        "    size = len(images)\n",
        "    plt.figure(figsize=(10, 10 * size))\n",
        "    for i in range(size):\n",
        "        plt.subplot(1, size, i + 1)\n",
        "        plt.title('Frame '+str(i))\n",
        "        plt.imshow(images[i],cmap='gray',)\n",
        "\n",
        "    plt.axis(\"off\")\n",
        "    plt.tight_layout()\n",
        "    plt.show()\n",
        "    plt.close()"
      ]
    },
    {
      "cell_type": "markdown",
      "metadata": {
        "id": "2l4BLbzoLlAH"
      },
      "source": [
        "###Create the generator\n"
      ]
    },
    {
      "cell_type": "code",
      "execution_count": null,
      "metadata": {
        "id": "ZedwxykwK_8D"
      },
      "outputs": [],
      "source": [
        "train_gen = image_generator(trainset)\n",
        "val_gen = image_generator(valset)\n",
        "test_gen = image_generator(testset)"
      ]
    },
    {
      "cell_type": "markdown",
      "metadata": {
        "id": "fYP-9iVmPw6C"
      },
      "source": [
        "## Create the Convolutional-LSTM model"
      ]
    },
    {
      "cell_type": "markdown",
      "metadata": {
        "id": "0mYq0TWtQ6rH"
      },
      "source": [
        "The lines of code below define the convolutional base using a common pattern: a stack of [ConvLSTM2D](https://www.tensorflow.org/api_docs/python/tf/keras/layers/ConvLSTM2D) and [BatchNormalization](https://www.tensorflow.org/api_docs/python/tf/keras/layers/BatchNormalization) layers.\n",
        "\n",
        "\n",
        "*  The ConvLSTM2D layer takes as input, if data_format='channels_first'\n",
        "(default), a 5D tensor with shape (samples, time, channels, rows, cols) or,  if data_format='channels_last', a 5D tensor with shape (samples, time, rows, cols, channels).\n",
        "\n",
        " A ConvLSTM2D extends the traditional LSTM by introducing convolutional operations on the input data, enabling it to learn spatio-temporal patterns in sequential data.\n",
        " ConvLSTM networks benefit from parameter sharing across both spatial and temporal dimensions. The convolutional layers share weights across the spatial dimensions of each frame, allowing the network to generalize well and capture spatial patterns regardless of their location within the frame. The recurrent connections share weights across the temporal dimension, enabling the network to exploit temporal regularities and generalize to sequences of varying lengths.\n",
        "\n",
        "\n",
        "\n",
        " * Batch normalization applies a transformation that maintains the mean output close to 0 and the output standard deviation close to 1.\n",
        "\n",
        "\n",
        "\n",
        " After the stack a conv3d layer is added, used to compress data. In this layer a sigmoid activation function is used because in ouput we want an image with values between 0 and 1 (normalized).\n",
        "\n",
        " Finally we want to have as output only the last frame. In fact, as any RNN, the output of a ConvLSTM is a sequence over time (one output for each input), so the better result will be the one corresponding to the last step."
      ]
    },
    {
      "cell_type": "code",
      "execution_count": null,
      "metadata": {
        "id": "AieN3WpFyhab"
      },
      "outputs": [],
      "source": [
        "def get_model(Input_shape):\n",
        "\n",
        "  input = layers.Input(shape=Input_shape)\n",
        "\n",
        "  c1 = layers.ConvLSTM2D(\n",
        "      filters=64,\n",
        "      kernel_size=(5, 5),\n",
        "      padding=\"same\",\n",
        "      return_sequences=True,\n",
        "      activation=\"relu\",\n",
        "  )(input)\n",
        "\n",
        "  b1 = layers.BatchNormalization()(c1)   #used to stabilize training\n",
        "\n",
        "  c2 = layers.ConvLSTM2D(\n",
        "      filters=64,\n",
        "      kernel_size=(5, 5),\n",
        "      padding=\"same\",\n",
        "      return_sequences=True,\n",
        "      activation=\"relu\",\n",
        "  )(b1)\n",
        "\n",
        "  b2 = layers.BatchNormalization()(c2)  #used to stabilize training\n",
        "\n",
        "  c3 = layers.ConvLSTM2D(\n",
        "      filters=64,\n",
        "      kernel_size=(5, 5),\n",
        "      padding=\"same\",\n",
        "      return_sequences=True,\n",
        "      activation=\"relu\",\n",
        "  )(b2)\n",
        "\n",
        "  b3 = layers.BatchNormalization()(c3)    #used to stabilize training\n",
        "\n",
        "  c4 = layers.ConvLSTM2D(\n",
        "      filters=32,\n",
        "      kernel_size=(5, 5),\n",
        "      padding=\"same\",\n",
        "      return_sequences=True,\n",
        "      activation=\"relu\",\n",
        "  )(b3)\n",
        "\n",
        "  conv1 = layers.Conv3D(\n",
        "      filters=1, kernel_size=(3, 3, 3), activation=\"sigmoid\", padding=\"same\"\n",
        "  )(c4)\n",
        "\n",
        "  #to get as output only the last frame\n",
        "  separate_frame = layers.Lambda(lambda x: x[:,-1, :, :, :])(conv1)\n",
        "  reshaped = layers.Reshape((1,64,64,1))(separate_frame)\n",
        "\n",
        "\n",
        "  model = keras.models.Model(input, reshaped)\n",
        "  #compile the model\n",
        "  model.compile(\n",
        "    loss=keras.losses.binary_crossentropy,metrics=tf.keras.metrics.mean_squared_error, optimizer=keras.optimizers.Adam(),\n",
        "  )\n",
        "  model.summary()\n",
        "  return model"
      ]
    },
    {
      "cell_type": "markdown",
      "metadata": {
        "id": "8wepR1yf2Qlx"
      },
      "source": [
        "### Get the model and print the summary\n",
        "\n",
        "\n",
        "\n",
        "\n"
      ]
    },
    {
      "cell_type": "code",
      "execution_count": null,
      "metadata": {
        "colab": {
          "base_uri": "https://localhost:8080/"
        },
        "id": "hQlnBK-fyqz2",
        "outputId": "9351589b-7603-46be-ce35-7d9a9c63f0ad"
      },
      "outputs": [
        {
          "name": "stdout",
          "output_type": "stream",
          "text": [
            "Model: \"model\"\n",
            "_________________________________________________________________\n",
            " Layer (type)                Output Shape              Param #   \n",
            "=================================================================\n",
            " input_1 (InputLayer)        [(None, None, 64, 64, 1)  0         \n",
            "                             ]                                   \n",
            "                                                                 \n",
            " conv_lstm2d (ConvLSTM2D)    (None, None, 64, 64, 64)  416256    \n",
            "                                                                 \n",
            " batch_normalization (BatchN  (None, None, 64, 64, 64)  256      \n",
            " ormalization)                                                   \n",
            "                                                                 \n",
            " conv_lstm2d_1 (ConvLSTM2D)  (None, None, 64, 64, 64)  819456    \n",
            "                                                                 \n",
            " batch_normalization_1 (Batc  (None, None, 64, 64, 64)  256      \n",
            " hNormalization)                                                 \n",
            "                                                                 \n",
            " conv_lstm2d_2 (ConvLSTM2D)  (None, None, 64, 64, 64)  819456    \n",
            "                                                                 \n",
            " batch_normalization_2 (Batc  (None, None, 64, 64, 64)  256      \n",
            " hNormalization)                                                 \n",
            "                                                                 \n",
            " conv_lstm2d_3 (ConvLSTM2D)  (None, None, 64, 64, 32)  307328    \n",
            "                                                                 \n",
            " conv3d (Conv3D)             (None, None, 64, 64, 1)   865       \n",
            "                                                                 \n",
            " lambda (Lambda)             (None, 64, 64, 1)         0         \n",
            "                                                                 \n",
            " reshape (Reshape)           (None, 1, 64, 64, 1)      0         \n",
            "                                                                 \n",
            "=================================================================\n",
            "Total params: 2,364,129\n",
            "Trainable params: 2,363,745\n",
            "Non-trainable params: 384\n",
            "_________________________________________________________________\n"
          ]
        }
      ],
      "source": [
        "model=get_model(Input_shape=(None,64,64,1))  #as input we can give a variable sequence of 64x64x1 frames"
      ]
    },
    {
      "cell_type": "markdown",
      "metadata": {
        "id": "NkJMpkVYUSJW"
      },
      "source": [
        "###Train the model"
      ]
    },
    {
      "cell_type": "markdown",
      "metadata": {
        "id": "RL_caiLANcSn"
      },
      "source": [
        "To train the model a callback is added in order to avoid overfitting. In particular the loss function on the validation set is monitored, if it stops improving the training is interrupted and the best result are restored (setting the parameter 'restore_best_weights=true')."
      ]
    },
    {
      "cell_type": "code",
      "execution_count": null,
      "metadata": {
        "colab": {
          "base_uri": "https://localhost:8080/"
        },
        "id": "AWHXIwLiAL7s",
        "outputId": "cc4f7cd7-06c4-4918-d86e-a60a7b706b00"
      },
      "outputs": [
        {
          "name": "stdout",
          "output_type": "stream",
          "text": [
            "Epoch 1/25\n",
            "500/500 [==============================] - 325s 605ms/step - loss: 0.0781 - mean_squared_error: 0.0184 - val_loss: 0.3845 - val_mean_squared_error: 0.0394\n",
            "Epoch 2/25\n",
            "500/500 [==============================] - 303s 605ms/step - loss: 0.0653 - mean_squared_error: 0.0140 - val_loss: 0.0661 - val_mean_squared_error: 0.0141\n",
            "Epoch 3/25\n",
            "500/500 [==============================] - 303s 605ms/step - loss: 0.0623 - mean_squared_error: 0.0129 - val_loss: 0.0620 - val_mean_squared_error: 0.0129\n",
            "Epoch 4/25\n",
            "500/500 [==============================] - 303s 606ms/step - loss: 0.0608 - mean_squared_error: 0.0124 - val_loss: 0.0611 - val_mean_squared_error: 0.0126\n",
            "Epoch 5/25\n",
            "500/500 [==============================] - 303s 605ms/step - loss: 0.0593 - mean_squared_error: 0.0119 - val_loss: 0.0705 - val_mean_squared_error: 0.0157\n",
            "Epoch 6/25\n",
            "500/500 [==============================] - 302s 605ms/step - loss: 0.0587 - mean_squared_error: 0.0116 - val_loss: 0.0622 - val_mean_squared_error: 0.0128\n",
            "Epoch 7/25\n",
            "500/500 [==============================] - 302s 605ms/step - loss: 0.0576 - mean_squared_error: 0.0113 - val_loss: 0.0585 - val_mean_squared_error: 0.0116\n",
            "Epoch 8/25\n",
            "500/500 [==============================] - 302s 604ms/step - loss: 0.0573 - mean_squared_error: 0.0112 - val_loss: 0.0576 - val_mean_squared_error: 0.0112\n",
            "Epoch 9/25\n",
            "500/500 [==============================] - 302s 604ms/step - loss: 0.0568 - mean_squared_error: 0.0110 - val_loss: 0.0561 - val_mean_squared_error: 0.0107\n",
            "Epoch 10/25\n",
            "500/500 [==============================] - 302s 604ms/step - loss: 0.0564 - mean_squared_error: 0.0109 - val_loss: 0.0577 - val_mean_squared_error: 0.0112\n",
            "Epoch 11/25\n",
            "500/500 [==============================] - 302s 604ms/step - loss: 0.0566 - mean_squared_error: 0.0110 - val_loss: 0.0563 - val_mean_squared_error: 0.0108\n",
            "Epoch 12/25\n",
            "500/500 [==============================] - 302s 604ms/step - loss: 0.0559 - mean_squared_error: 0.0107 - val_loss: 0.0554 - val_mean_squared_error: 0.0105\n",
            "Epoch 13/25\n",
            "500/500 [==============================] - 302s 604ms/step - loss: 0.0553 - mean_squared_error: 0.0105 - val_loss: 0.0568 - val_mean_squared_error: 0.0110\n",
            "Epoch 14/25\n",
            "500/500 [==============================] - 302s 604ms/step - loss: 0.0551 - mean_squared_error: 0.0105 - val_loss: 0.0552 - val_mean_squared_error: 0.0103\n",
            "Epoch 15/25\n",
            "500/500 [==============================] - 302s 604ms/step - loss: 0.0549 - mean_squared_error: 0.0104 - val_loss: 0.0564 - val_mean_squared_error: 0.0107\n",
            "Epoch 16/25\n",
            "500/500 [==============================] - 302s 604ms/step - loss: 0.0546 - mean_squared_error: 0.0103 - val_loss: 0.0556 - val_mean_squared_error: 0.0106\n",
            "Epoch 17/25\n",
            "500/500 [==============================] - 302s 604ms/step - loss: 0.0545 - mean_squared_error: 0.0102 - val_loss: 0.0553 - val_mean_squared_error: 0.0106\n",
            "Epoch 18/25\n",
            "500/500 [==============================] - 302s 604ms/step - loss: 0.0543 - mean_squared_error: 0.0102 - val_loss: 0.0549 - val_mean_squared_error: 0.0103\n",
            "Epoch 19/25\n",
            "500/500 [==============================] - 302s 604ms/step - loss: 0.0544 - mean_squared_error: 0.0102 - val_loss: 0.0550 - val_mean_squared_error: 0.0104\n",
            "Epoch 20/25\n",
            "500/500 [==============================] - 302s 604ms/step - loss: 0.0539 - mean_squared_error: 0.0101 - val_loss: 0.0550 - val_mean_squared_error: 0.0104\n",
            "Epoch 21/25\n",
            "500/500 [==============================] - 302s 603ms/step - loss: 0.0538 - mean_squared_error: 0.0100 - val_loss: 0.0544 - val_mean_squared_error: 0.0101\n",
            "Epoch 22/25\n",
            "500/500 [==============================] - 302s 604ms/step - loss: 0.0541 - mean_squared_error: 0.0101 - val_loss: 0.0537 - val_mean_squared_error: 0.0099\n",
            "Epoch 23/25\n",
            "500/500 [==============================] - 302s 603ms/step - loss: 0.0540 - mean_squared_error: 0.0101 - val_loss: 0.0547 - val_mean_squared_error: 0.0102\n",
            "Epoch 24/25\n",
            "500/500 [==============================] - 302s 604ms/step - loss: 0.0532 - mean_squared_error: 0.0099 - val_loss: 0.0549 - val_mean_squared_error: 0.0103\n",
            "Epoch 25/25\n",
            "500/500 [==============================] - 302s 604ms/step - loss: 0.0535 - mean_squared_error: 0.0099 - val_loss: 0.0539 - val_mean_squared_error: 0.0099\n"
          ]
        }
      ],
      "source": [
        "# Define some callbacks to improve training, avoiding overfitting\n",
        "callback = keras.callbacks.EarlyStopping(monitor=\"val_loss\",\n",
        "    mode = \"min\",\n",
        "    patience=10,\n",
        "    restore_best_weights=True)\n",
        "#set the number of steps\n",
        "#we use (number of samples)//batchsize\n",
        "train_steps=len(trainset)//16\n",
        "val_steps=len(valset)//16\n",
        "\n",
        "#in model.fit we do not have to specify the batch size since we are using generators\n",
        "history=model.fit(x=train_gen,\n",
        "                    validation_data=val_gen,steps_per_epoch=train_steps,validation_steps=val_steps,callbacks=[callback],\n",
        "                    epochs=25)  #verbose??"
      ]
    },
    {
      "cell_type": "markdown",
      "metadata": {
        "id": "anqdVnc3mLRD"
      },
      "source": [
        "From the 17-th epoch the MSE decreases very slowly, so we could also consider to reduce the number of epoch to speed up the training."
      ]
    },
    {
      "cell_type": "markdown",
      "metadata": {
        "id": "zacsPbcZZM_C"
      },
      "source": [
        "###Result Inspection"
      ]
    },
    {
      "cell_type": "code",
      "execution_count": null,
      "metadata": {
        "id": "L53E6o4BUf47"
      },
      "outputs": [],
      "source": [
        "#Function to display the loss and the mse values during the training\n",
        "def display_history(history):\n",
        "    mse_training = history.history['loss']\n",
        "    acc_training = history.history['mean_squared_error']\n",
        "\n",
        "    mse_val = history.history['val_loss']\n",
        "    acc_val = history.history['val_mean_squared_error']\n",
        "\n",
        "    # Visualize the behavior of the loss\n",
        "    plt.plot(mse_training)\n",
        "    plt.plot(mse_val)\n",
        "    plt.grid()\n",
        "    plt.title('Loss during training')\n",
        "    plt.xlabel('Epoch')\n",
        "    plt.legend(['Training', 'Validation'])\n",
        "    plt.show()\n",
        "\n",
        "    # and of the MSE\n",
        "    plt.plot(acc_training)\n",
        "    plt.plot(acc_val)\n",
        "    plt.grid()\n",
        "    plt.title('MSE during training')\n",
        "    plt.xlabel('Epoch')\n",
        "    plt.legend(['Training', 'Validation'])\n",
        "    plt.show()"
      ]
    },
    {
      "cell_type": "code",
      "execution_count": null,
      "metadata": {
        "colab": {
          "base_uri": "https://localhost:8080/",
          "height": 927
        },
        "id": "UTMCCk_ZVmR6",
        "outputId": "05fbb255-e5f1-4813-e59c-a3b1eb738f36"
      },
      "outputs": [
        {
          "data": {
            "image/png": "[encoded data removed]",
            "text/plain": [
              "<Figure size 640x480 with 1 Axes>"
            ]
          },
          "metadata": {},
          "output_type": "display_data"
        },
        {
          "data": {
            "image/png": "[encoded data removed]",
            "text/plain": [
              "<Figure size 640x480 with 1 Axes>"
            ]
          },
          "metadata": {},
          "output_type": "display_data"
        }
      ],
      "source": [
        "display_history(history)"
      ]
    },
    {
      "cell_type": "markdown",
      "metadata": {
        "id": "q8TwKku3QHti"
      },
      "source": [
        "From the two plots we can see that both loss and MSE decrease increasing the number of epoch.\n",
        "The results on the validation set are a little bit unstable, but at the end we cannot talk of overfitting."
      ]
    },
    {
      "cell_type": "markdown",
      "metadata": {
        "id": "OQwEbAh6Zjaj"
      },
      "source": [
        "#Test the model on the test samples"
      ]
    },
    {
      "cell_type": "code",
      "execution_count": null,
      "metadata": {
        "colab": {
          "base_uri": "https://localhost:8080/"
        },
        "id": "-lcGGfulS3TK",
        "outputId": "b8384ecf-ec85-4e2b-95d2-2d49cf6949eb"
      },
      "outputs": [
        {
          "name": "stdout",
          "output_type": "stream",
          "text": [
            "62/62 [==============================] - 14s 217ms/step - loss: 0.0533 - mean_squared_error: 0.0099\n"
          ]
        },
        {
          "data": {
            "text/plain": [
              "[0.053337182849645615, 0.009878277778625488]"
            ]
          },
          "execution_count": 32,
          "metadata": {},
          "output_type": "execute_result"
        }
      ],
      "source": [
        "model.evaluate(x=test_gen,steps=len(testset)//16)"
      ]
    },
    {
      "cell_type": "markdown",
      "metadata": {
        "id": "vM4hfZf-tiAG"
      },
      "source": [
        "Also on the test set the model has good results."
      ]
    },
    {
      "cell_type": "markdown",
      "metadata": {
        "id": "zW2rFeMgaBBe"
      },
      "source": [
        "##Predicted Frame Visualization"
      ]
    },
    {
      "cell_type": "markdown",
      "metadata": {
        "id": "IboI9NLFpFnv"
      },
      "source": [
        "First, create a new generator that returns 4 frame of a single video taken from the test set."
      ]
    },
    {
      "cell_type": "code",
      "execution_count": null,
      "metadata": {
        "colab": {
          "base_uri": "https://localhost:8080/"
        },
        "id": "9dvV5q5eiNoq",
        "outputId": "142cabef-4646-4ecc-d84f-49b3d1771312"
      },
      "outputs": [
        {
          "name": "stdout",
          "output_type": "stream",
          "text": [
            "1/1 [==============================] - 0s 26ms/step\n"
          ]
        }
      ],
      "source": [
        "#First, create a new generator that returns 4 frame of a single video\n",
        "gen = image_generator(testset,batchsize=1,seqlen=4)\n",
        "sample_x, sample_y = next(gen)\n",
        "new_prediction = model.predict(sample_x)"
      ]
    },
    {
      "cell_type": "markdown",
      "metadata": {
        "id": "pNyb9Qx_pNjp"
      },
      "source": [
        "Then, show the comparison between the ground truth and the model prediction.\n",
        "\n",
        "The first three frames are the same in both plots.\n",
        "The fouth frame is what we want to predict, so in the first plot there will be the real image, meanwhile in the second we will show the predicted one.\n"
      ]
    },
    {
      "cell_type": "code",
      "execution_count": null,
      "metadata": {
        "colab": {
          "base_uri": "https://localhost:8080/",
          "height": 642
        },
        "id": "mfu2o-bFhY8Q",
        "outputId": "79956ced-2374-476b-cec4-f60d36d0b41f"
      },
      "outputs": [
        {
          "name": "stdout",
          "output_type": "stream",
          "text": [
            "GROUND TRUTH\n",
            "\n"
          ]
        },
        {
          "data": {
            "image/png": "[encoded data removed]",
            "text/plain": [
              "<Figure size 1000x4000 with 4 Axes>"
            ]
          },
          "metadata": {},
          "output_type": "display_data"
        },
        {
          "name": "stdout",
          "output_type": "stream",
          "text": [
            "\n",
            "PREDICTION\n",
            "\n"
          ]
        },
        {
          "data": {
            "image/png": "[encoded data removed]",
            "text/plain": [
              "<Figure size 1000x4000 with 4 Axes>"
            ]
          },
          "metadata": {},
          "output_type": "display_data"
        }
      ],
      "source": [
        "\n",
        "#show\n",
        "\n",
        "all = [sample_x[0,i,:,:,0] for i in range(3)]+[sample_y[0,0,:,:,0]]\n",
        "print('GROUND TRUTH\\n')\n",
        "show_list(all)\n",
        "\n",
        "print('\\nPREDICTION\\n')\n",
        "all = [sample_x[0,i,:,:,0] for i in range(3)]+[new_prediction[0,-1,:,:,0]]\n",
        "show_list(all)"
      ]
    },
    {
      "cell_type": "markdown",
      "metadata": {
        "id": "MMP0SD8hdQbf"
      },
      "source": [
        "# Conclusions:\n",
        "The results show that in a small number of epoch the model is able to predict, given three frame as input, the following frame in a reasonable way. In fact a low MSE is achieved on the test set and, as we can see from the previous plots, the visual prediction of the model is very similar to the ground truth.\n",
        "Furthermore, from the train history, we can assume that (slightly) better results could be achieved increasing the number of epoch and using callbacks to avoid overfitting.\n",
        "Finally we can say that the combination of convolutional and recurrent operations in CONVLSTM networks makes them powerful for next frame prediction tasks, allowing them to effectively capture both spatial and temporal dependencies in sequential data.\n"
      ]
    },
    {
      "cell_type": "markdown",
      "metadata": {
        "id": "76a7oNCKdvKH"
      },
      "source": [
        "# Bibliography\n",
        "**[[1]](https://keras.io/examples/vision/conv_lstm/)** 'Next-frame prediction with convLSTMs'\n",
        "\n",
        "**[[2]](https://arxiv.org/pdf/1506.04214v1.pdf)** 'Convolutional LSTM Network: A Machine Learning\n",
        "Approach for Precipitation Nowcasting'. Xingjian Shi - Zhourong Chen - Hao Wang - Dit-Yan Yeung\n",
        "\n",
        "**[[3]](https://www.kaggle.com/code/kcostya/convlstm-convolutional-lstm-network-tutorial)** ConvLSTM: Convolutional LSTM Network Tutorial\n",
        "\n"
      ]
    }
  ],
  "metadata": {
    "accelerator": "GPU",
    "colab": {
      "gpuType": "T4",
      "machine_shape": "hm",
      "provenance": []
    },
    "kernelspec": {
      "display_name": "Python 3",
      "name": "python3"
    },
    "language_info": {
      "codemirror_mode": {
        "name": "ipython",
        "version": 3
      },
      "file_extension": ".py",
      "mimetype": "text/x-python",
      "name": "python",
      "nbconvert_exporter": "python",
      "pygments_lexer": "ipython3",
      "version": "3.10.11"
    },
    "widgets": {
      "application/vnd.jupyter.widget-state+json": {
        "03c7a738ebf849cd8da8af3fbc074b39": {
          "model_module": "@jupyter-widgets/base",
          "model_module_version": "1.2.0",
          "model_name": "LayoutModel",
          "state": {
            "_model_module": "@jupyter-widgets/base",
            "_model_module_version": "1.2.0",
            "_model_name": "LayoutModel",
            "_view_count": null,
            "_view_module": "@jupyter-widgets/base",
            "_view_module_version": "1.2.0",
            "_view_name": "LayoutView",
            "align_content": null,
            "align_items": null,
            "align_self": null,
            "border": null,
            "bottom": null,
            "display": null,
            "flex": null,
            "flex_flow": null,
            "grid_area": null,
            "grid_auto_columns": null,
            "grid_auto_flow": null,
            "grid_auto_rows": null,
            "grid_column": null,
            "grid_gap": null,
            "grid_row": null,
            "grid_template_areas": null,
            "grid_template_columns": null,
            "grid_template_rows": null,
            "height": null,
            "justify_content": null,
            "justify_items": null,
            "left": null,
            "margin": null,
            "max_height": null,
            "max_width": null,
            "min_height": null,
            "min_width": null,
            "object_fit": null,
            "object_position": null,
            "order": null,
            "overflow": null,
            "overflow_x": null,
            "overflow_y": null,
            "padding": null,
            "right": null,
            "top": null,
            "visibility": null,
            "width": null
          }
        },
        "06ae6dc4c39842b3b348bd20141af96d": {
          "model_module": "@jupyter-widgets/base",
          "model_module_version": "1.2.0",
          "model_name": "LayoutModel",
          "state": {
            "_model_module": "@jupyter-widgets/base",
            "_model_module_version": "1.2.0",
            "_model_name": "LayoutModel",
            "_view_count": null,
            "_view_module": "@jupyter-widgets/base",
            "_view_module_version": "1.2.0",
            "_view_name": "LayoutView",
            "align_content": null,
            "align_items": null,
            "align_self": null,
            "border": null,
            "bottom": null,
            "display": null,
            "flex": null,
            "flex_flow": null,
            "grid_area": null,
            "grid_auto_columns": null,
            "grid_auto_flow": null,
            "grid_auto_rows": null,
            "grid_column": null,
            "grid_gap": null,
            "grid_row": null,
            "grid_template_areas": null,
            "grid_template_columns": null,
            "grid_template_rows": null,
            "height": null,
            "justify_content": null,
            "justify_items": null,
            "left": null,
            "margin": null,
            "max_height": null,
            "max_width": null,
            "min_height": null,
            "min_width": null,
            "object_fit": null,
            "object_position": null,
            "order": null,
            "overflow": null,
            "overflow_x": null,
            "overflow_y": null,
            "padding": null,
            "right": null,
            "top": null,
            "visibility": null,
            "width": null
          }
        },
        "08a236be2cb2420c9b39d6cf5119a367": {
          "model_module": "@jupyter-widgets/controls",
          "model_module_version": "1.5.0",
          "model_name": "FloatProgressModel",
          "state": {
            "_dom_classes": [],
            "_model_module": "@jupyter-widgets/controls",
            "_model_module_version": "1.5.0",
            "_model_name": "FloatProgressModel",
            "_view_count": null,
            "_view_module": "@jupyter-widgets/controls",
            "_view_module_version": "1.5.0",
            "_view_name": "ProgressView",
            "bar_style": "",
            "description": "",
            "description_tooltip": null,
            "layout": "IPY_MODEL_03c7a738ebf849cd8da8af3fbc074b39",
            "max": 10000,
            "min": 0,
            "orientation": "horizontal",
            "style": "IPY_MODEL_54d2c19d40f545edae0cd2728d806d76",
            "value": 10000
          }
        },
        "14aac7254b0b4b538cc66c73b1b51827": {
          "model_module": "@jupyter-widgets/controls",
          "model_module_version": "1.5.0",
          "model_name": "ProgressStyleModel",
          "state": {
            "_model_module": "@jupyter-widgets/controls",
            "_model_module_version": "1.5.0",
            "_model_name": "ProgressStyleModel",
            "_view_count": null,
            "_view_module": "@jupyter-widgets/base",
            "_view_module_version": "1.2.0",
            "_view_name": "StyleView",
            "bar_color": null,
            "description_width": ""
          }
        },
        "1510e093bb2d4e58bb9b7d25f7fc6e4c": {
          "model_module": "@jupyter-widgets/controls",
          "model_module_version": "1.5.0",
          "model_name": "HTMLModel",
          "state": {
            "_dom_classes": [],
            "_model_module": "@jupyter-widgets/controls",
            "_model_module_version": "1.5.0",
            "_model_name": "HTMLModel",
            "_view_count": null,
            "_view_module": "@jupyter-widgets/controls",
            "_view_module_version": "1.5.0",
            "_view_name": "HTMLView",
            "description": "",
            "description_tooltip": null,
            "layout": "IPY_MODEL_69272d2ff5a84329b9c6619c1634a3ea",
            "placeholder": "​",
            "style": "IPY_MODEL_203f05b2551f4d51a50735f1d5c96370",
            "value": "Shuffling /root/tensorflow_datasets/moving_mnist/1.0.0.incompleteINNDOM/moving_mnist-test.tfrecord*...:  70%"
          }
        },
        "15a2ad4b32104723b41b027cb7506471": {
          "model_module": "@jupyter-widgets/base",
          "model_module_version": "1.2.0",
          "model_name": "LayoutModel",
          "state": {
            "_model_module": "@jupyter-widgets/base",
            "_model_module_version": "1.2.0",
            "_model_name": "LayoutModel",
            "_view_count": null,
            "_view_module": "@jupyter-widgets/base",
            "_view_module_version": "1.2.0",
            "_view_name": "LayoutView",
            "align_content": null,
            "align_items": null,
            "align_self": null,
            "border": null,
            "bottom": null,
            "display": null,
            "flex": null,
            "flex_flow": null,
            "grid_area": null,
            "grid_auto_columns": null,
            "grid_auto_flow": null,
            "grid_auto_rows": null,
            "grid_column": null,
            "grid_gap": null,
            "grid_row": null,
            "grid_template_areas": null,
            "grid_template_columns": null,
            "grid_template_rows": null,
            "height": null,
            "justify_content": null,
            "justify_items": null,
            "left": null,
            "margin": null,
            "max_height": null,
            "max_width": null,
            "min_height": null,
            "min_width": null,
            "object_fit": null,
            "object_position": null,
            "order": null,
            "overflow": null,
            "overflow_x": null,
            "overflow_y": null,
            "padding": null,
            "right": null,
            "top": null,
            "visibility": null,
            "width": null
          }
        },
        "1fbbe91df52842bbac0da62d5431a57a": {
          "model_module": "@jupyter-widgets/controls",
          "model_module_version": "1.5.0",
          "model_name": "HTMLModel",
          "state": {
            "_dom_classes": [],
            "_model_module": "@jupyter-widgets/controls",
            "_model_module_version": "1.5.0",
            "_model_name": "HTMLModel",
            "_view_count": null,
            "_view_module": "@jupyter-widgets/controls",
            "_view_module_version": "1.5.0",
            "_view_name": "HTMLView",
            "description": "",
            "description_tooltip": null,
            "layout": "IPY_MODEL_25903855ac184ba885c90231eca9445a",
            "placeholder": "​",
            "style": "IPY_MODEL_b2958ac3273743ad8af08d48319a2501",
            "value": "Dl Size...: 100%"
          }
        },
        "203f05b2551f4d51a50735f1d5c96370": {
          "model_module": "@jupyter-widgets/controls",
          "model_module_version": "1.5.0",
          "model_name": "DescriptionStyleModel",
          "state": {
            "_model_module": "@jupyter-widgets/controls",
            "_model_module_version": "1.5.0",
            "_model_name": "DescriptionStyleModel",
            "_view_count": null,
            "_view_module": "@jupyter-widgets/base",
            "_view_module_version": "1.2.0",
            "_view_name": "StyleView",
            "description_width": ""
          }
        },
        "25903855ac184ba885c90231eca9445a": {
          "model_module": "@jupyter-widgets/base",
          "model_module_version": "1.2.0",
          "model_name": "LayoutModel",
          "state": {
            "_model_module": "@jupyter-widgets/base",
            "_model_module_version": "1.2.0",
            "_model_name": "LayoutModel",
            "_view_count": null,
            "_view_module": "@jupyter-widgets/base",
            "_view_module_version": "1.2.0",
            "_view_name": "LayoutView",
            "align_content": null,
            "align_items": null,
            "align_self": null,
            "border": null,
            "bottom": null,
            "display": null,
            "flex": null,
            "flex_flow": null,
            "grid_area": null,
            "grid_auto_columns": null,
            "grid_auto_flow": null,
            "grid_auto_rows": null,
            "grid_column": null,
            "grid_gap": null,
            "grid_row": null,
            "grid_template_areas": null,
            "grid_template_columns": null,
            "grid_template_rows": null,
            "height": null,
            "justify_content": null,
            "justify_items": null,
            "left": null,
            "margin": null,
            "max_height": null,
            "max_width": null,
            "min_height": null,
            "min_width": null,
            "object_fit": null,
            "object_position": null,
            "order": null,
            "overflow": null,
            "overflow_x": null,
            "overflow_y": null,
            "padding": null,
            "right": null,
            "top": null,
            "visibility": null,
            "width": null
          }
        },
        "26a562b5d17b444db7bc2a9cfc16ac0a": {
          "model_module": "@jupyter-widgets/base",
          "model_module_version": "1.2.0",
          "model_name": "LayoutModel",
          "state": {
            "_model_module": "@jupyter-widgets/base",
            "_model_module_version": "1.2.0",
            "_model_name": "LayoutModel",
            "_view_count": null,
            "_view_module": "@jupyter-widgets/base",
            "_view_module_version": "1.2.0",
            "_view_name": "LayoutView",
            "align_content": null,
            "align_items": null,
            "align_self": null,
            "border": null,
            "bottom": null,
            "display": null,
            "flex": null,
            "flex_flow": null,
            "grid_area": null,
            "grid_auto_columns": null,
            "grid_auto_flow": null,
            "grid_auto_rows": null,
            "grid_column": null,
            "grid_gap": null,
            "grid_row": null,
            "grid_template_areas": null,
            "grid_template_columns": null,
            "grid_template_rows": null,
            "height": null,
            "justify_content": null,
            "justify_items": null,
            "left": null,
            "margin": null,
            "max_height": null,
            "max_width": null,
            "min_height": null,
            "min_width": null,
            "object_fit": null,
            "object_position": null,
            "order": null,
            "overflow": null,
            "overflow_x": null,
            "overflow_y": null,
            "padding": null,
            "right": null,
            "top": null,
            "visibility": null,
            "width": null
          }
        },
        "31461e5d8670472daf31e253b6748b48": {
          "model_module": "@jupyter-widgets/controls",
          "model_module_version": "1.5.0",
          "model_name": "HTMLModel",
          "state": {
            "_dom_classes": [],
            "_model_module": "@jupyter-widgets/controls",
            "_model_module_version": "1.5.0",
            "_model_name": "HTMLModel",
            "_view_count": null,
            "_view_module": "@jupyter-widgets/controls",
            "_view_module_version": "1.5.0",
            "_view_name": "HTMLView",
            "description": "",
            "description_tooltip": null,
            "layout": "IPY_MODEL_4f4ddb823b0c4765a14cd92e72956336",
            "placeholder": "​",
            "style": "IPY_MODEL_63677e05194945998e975f048073dfa3",
            "value": "Dl Completed...: 100%"
          }
        },
        "32cd426ecee648a5b238062c9253feb9": {
          "model_module": "@jupyter-widgets/controls",
          "model_module_version": "1.5.0",
          "model_name": "HBoxModel",
          "state": {
            "_dom_classes": [],
            "_model_module": "@jupyter-widgets/controls",
            "_model_module_version": "1.5.0",
            "_model_name": "HBoxModel",
            "_view_count": null,
            "_view_module": "@jupyter-widgets/controls",
            "_view_module_version": "1.5.0",
            "_view_name": "HBoxView",
            "box_style": "",
            "children": [
              "IPY_MODEL_1510e093bb2d4e58bb9b7d25f7fc6e4c",
              "IPY_MODEL_08a236be2cb2420c9b39d6cf5119a367",
              "IPY_MODEL_8093800090534821bb358e94271896c5"
            ],
            "layout": "IPY_MODEL_51fceac60de34386bc275cd04d762a03"
          }
        },
        "3427178a4a2a4ad9b7230563b91ca916": {
          "model_module": "@jupyter-widgets/controls",
          "model_module_version": "1.5.0",
          "model_name": "DescriptionStyleModel",
          "state": {
            "_model_module": "@jupyter-widgets/controls",
            "_model_module_version": "1.5.0",
            "_model_name": "DescriptionStyleModel",
            "_view_count": null,
            "_view_module": "@jupyter-widgets/base",
            "_view_module_version": "1.2.0",
            "_view_name": "StyleView",
            "description_width": ""
          }
        },
        "3490d13814154c3c93d841df5095f8c9": {
          "model_module": "@jupyter-widgets/controls",
          "model_module_version": "1.5.0",
          "model_name": "FloatProgressModel",
          "state": {
            "_dom_classes": [],
            "_model_module": "@jupyter-widgets/controls",
            "_model_module_version": "1.5.0",
            "_model_name": "FloatProgressModel",
            "_view_count": null,
            "_view_module": "@jupyter-widgets/controls",
            "_view_module_version": "1.5.0",
            "_view_name": "ProgressView",
            "bar_style": "success",
            "description": "",
            "description_tooltip": null,
            "layout": "IPY_MODEL_849aa3d3d9f5421dae1961551dbffbbe",
            "max": 1,
            "min": 0,
            "orientation": "horizontal",
            "style": "IPY_MODEL_7368456613684e7d87f0ef1cfcf4556f",
            "value": 1
          }
        },
        "3f22e279ce65404e9eb7c9bc0ded8638": {
          "model_module": "@jupyter-widgets/controls",
          "model_module_version": "1.5.0",
          "model_name": "DescriptionStyleModel",
          "state": {
            "_model_module": "@jupyter-widgets/controls",
            "_model_module_version": "1.5.0",
            "_model_name": "DescriptionStyleModel",
            "_view_count": null,
            "_view_module": "@jupyter-widgets/base",
            "_view_module_version": "1.2.0",
            "_view_name": "StyleView",
            "description_width": ""
          }
        },
        "42c97a2f482340b6afcda0042647b79a": {
          "model_module": "@jupyter-widgets/base",
          "model_module_version": "1.2.0",
          "model_name": "LayoutModel",
          "state": {
            "_model_module": "@jupyter-widgets/base",
            "_model_module_version": "1.2.0",
            "_model_name": "LayoutModel",
            "_view_count": null,
            "_view_module": "@jupyter-widgets/base",
            "_view_module_version": "1.2.0",
            "_view_name": "LayoutView",
            "align_content": null,
            "align_items": null,
            "align_self": null,
            "border": null,
            "bottom": null,
            "display": null,
            "flex": null,
            "flex_flow": null,
            "grid_area": null,
            "grid_auto_columns": null,
            "grid_auto_flow": null,
            "grid_auto_rows": null,
            "grid_column": null,
            "grid_gap": null,
            "grid_row": null,
            "grid_template_areas": null,
            "grid_template_columns": null,
            "grid_template_rows": null,
            "height": null,
            "justify_content": null,
            "justify_items": null,
            "left": null,
            "margin": null,
            "max_height": null,
            "max_width": null,
            "min_height": null,
            "min_width": null,
            "object_fit": null,
            "object_position": null,
            "order": null,
            "overflow": null,
            "overflow_x": null,
            "overflow_y": null,
            "padding": null,
            "right": null,
            "top": null,
            "visibility": null,
            "width": null
          }
        },
        "4f4ddb823b0c4765a14cd92e72956336": {
          "model_module": "@jupyter-widgets/base",
          "model_module_version": "1.2.0",
          "model_name": "LayoutModel",
          "state": {
            "_model_module": "@jupyter-widgets/base",
            "_model_module_version": "1.2.0",
            "_model_name": "LayoutModel",
            "_view_count": null,
            "_view_module": "@jupyter-widgets/base",
            "_view_module_version": "1.2.0",
            "_view_name": "LayoutView",
            "align_content": null,
            "align_items": null,
            "align_self": null,
            "border": null,
            "bottom": null,
            "display": null,
            "flex": null,
            "flex_flow": null,
            "grid_area": null,
            "grid_auto_columns": null,
            "grid_auto_flow": null,
            "grid_auto_rows": null,
            "grid_column": null,
            "grid_gap": null,
            "grid_row": null,
            "grid_template_areas": null,
            "grid_template_columns": null,
            "grid_template_rows": null,
            "height": null,
            "justify_content": null,
            "justify_items": null,
            "left": null,
            "margin": null,
            "max_height": null,
            "max_width": null,
            "min_height": null,
            "min_width": null,
            "object_fit": null,
            "object_position": null,
            "order": null,
            "overflow": null,
            "overflow_x": null,
            "overflow_y": null,
            "padding": null,
            "right": null,
            "top": null,
            "visibility": null,
            "width": null
          }
        },
        "51fceac60de34386bc275cd04d762a03": {
          "model_module": "@jupyter-widgets/base",
          "model_module_version": "1.2.0",
          "model_name": "LayoutModel",
          "state": {
            "_model_module": "@jupyter-widgets/base",
            "_model_module_version": "1.2.0",
            "_model_name": "LayoutModel",
            "_view_count": null,
            "_view_module": "@jupyter-widgets/base",
            "_view_module_version": "1.2.0",
            "_view_name": "LayoutView",
            "align_content": null,
            "align_items": null,
            "align_self": null,
            "border": null,
            "bottom": null,
            "display": null,
            "flex": null,
            "flex_flow": null,
            "grid_area": null,
            "grid_auto_columns": null,
            "grid_auto_flow": null,
            "grid_auto_rows": null,
            "grid_column": null,
            "grid_gap": null,
            "grid_row": null,
            "grid_template_areas": null,
            "grid_template_columns": null,
            "grid_template_rows": null,
            "height": null,
            "justify_content": null,
            "justify_items": null,
            "left": null,
            "margin": null,
            "max_height": null,
            "max_width": null,
            "min_height": null,
            "min_width": null,
            "object_fit": null,
            "object_position": null,
            "order": null,
            "overflow": null,
            "overflow_x": null,
            "overflow_y": null,
            "padding": null,
            "right": null,
            "top": null,
            "visibility": "hidden",
            "width": null
          }
        },
        "54d2c19d40f545edae0cd2728d806d76": {
          "model_module": "@jupyter-widgets/controls",
          "model_module_version": "1.5.0",
          "model_name": "ProgressStyleModel",
          "state": {
            "_model_module": "@jupyter-widgets/controls",
            "_model_module_version": "1.5.0",
            "_model_name": "ProgressStyleModel",
            "_view_count": null,
            "_view_module": "@jupyter-widgets/base",
            "_view_module_version": "1.2.0",
            "_view_name": "StyleView",
            "bar_color": null,
            "description_width": ""
          }
        },
        "595895cd8f304720bbe77a884310549e": {
          "model_module": "@jupyter-widgets/controls",
          "model_module_version": "1.5.0",
          "model_name": "DescriptionStyleModel",
          "state": {
            "_model_module": "@jupyter-widgets/controls",
            "_model_module_version": "1.5.0",
            "_model_name": "DescriptionStyleModel",
            "_view_count": null,
            "_view_module": "@jupyter-widgets/base",
            "_view_module_version": "1.2.0",
            "_view_name": "StyleView",
            "description_width": ""
          }
        },
        "5a9caf0df396430d97e3d431368f63a9": {
          "model_module": "@jupyter-widgets/controls",
          "model_module_version": "1.5.0",
          "model_name": "HTMLModel",
          "state": {
            "_dom_classes": [],
            "_model_module": "@jupyter-widgets/controls",
            "_model_module_version": "1.5.0",
            "_model_name": "HTMLModel",
            "_view_count": null,
            "_view_module": "@jupyter-widgets/controls",
            "_view_module_version": "1.5.0",
            "_view_name": "HTMLView",
            "description": "",
            "description_tooltip": null,
            "layout": "IPY_MODEL_7118d675304f46c09a6debaade235080",
            "placeholder": "​",
            "style": "IPY_MODEL_595895cd8f304720bbe77a884310549e",
            "value": " 1/1 [00:10&lt;00:00, 10.53s/ url]"
          }
        },
        "5fb0beefcef54fb692e58a1c0ff8b9d1": {
          "model_module": "@jupyter-widgets/base",
          "model_module_version": "1.2.0",
          "model_name": "LayoutModel",
          "state": {
            "_model_module": "@jupyter-widgets/base",
            "_model_module_version": "1.2.0",
            "_model_name": "LayoutModel",
            "_view_count": null,
            "_view_module": "@jupyter-widgets/base",
            "_view_module_version": "1.2.0",
            "_view_name": "LayoutView",
            "align_content": null,
            "align_items": null,
            "align_self": null,
            "border": null,
            "bottom": null,
            "display": null,
            "flex": null,
            "flex_flow": null,
            "grid_area": null,
            "grid_auto_columns": null,
            "grid_auto_flow": null,
            "grid_auto_rows": null,
            "grid_column": null,
            "grid_gap": null,
            "grid_row": null,
            "grid_template_areas": null,
            "grid_template_columns": null,
            "grid_template_rows": null,
            "height": null,
            "justify_content": null,
            "justify_items": null,
            "left": null,
            "margin": null,
            "max_height": null,
            "max_width": null,
            "min_height": null,
            "min_width": null,
            "object_fit": null,
            "object_position": null,
            "order": null,
            "overflow": null,
            "overflow_x": null,
            "overflow_y": null,
            "padding": null,
            "right": null,
            "top": null,
            "visibility": null,
            "width": null
          }
        },
        "619b5c928fa94a2da77354f023c5ee1f": {
          "model_module": "@jupyter-widgets/base",
          "model_module_version": "1.2.0",
          "model_name": "LayoutModel",
          "state": {
            "_model_module": "@jupyter-widgets/base",
            "_model_module_version": "1.2.0",
            "_model_name": "LayoutModel",
            "_view_count": null,
            "_view_module": "@jupyter-widgets/base",
            "_view_module_version": "1.2.0",
            "_view_name": "LayoutView",
            "align_content": null,
            "align_items": null,
            "align_self": null,
            "border": null,
            "bottom": null,
            "display": null,
            "flex": null,
            "flex_flow": null,
            "grid_area": null,
            "grid_auto_columns": null,
            "grid_auto_flow": null,
            "grid_auto_rows": null,
            "grid_column": null,
            "grid_gap": null,
            "grid_row": null,
            "grid_template_areas": null,
            "grid_template_columns": null,
            "grid_template_rows": null,
            "height": null,
            "justify_content": null,
            "justify_items": null,
            "left": null,
            "margin": null,
            "max_height": null,
            "max_width": null,
            "min_height": null,
            "min_width": null,
            "object_fit": null,
            "object_position": null,
            "order": null,
            "overflow": null,
            "overflow_x": null,
            "overflow_y": null,
            "padding": null,
            "right": null,
            "top": null,
            "visibility": null,
            "width": null
          }
        },
        "63677e05194945998e975f048073dfa3": {
          "model_module": "@jupyter-widgets/controls",
          "model_module_version": "1.5.0",
          "model_name": "DescriptionStyleModel",
          "state": {
            "_model_module": "@jupyter-widgets/controls",
            "_model_module_version": "1.5.0",
            "_model_name": "DescriptionStyleModel",
            "_view_count": null,
            "_view_module": "@jupyter-widgets/base",
            "_view_module_version": "1.2.0",
            "_view_name": "StyleView",
            "description_width": ""
          }
        },
        "69272d2ff5a84329b9c6619c1634a3ea": {
          "model_module": "@jupyter-widgets/base",
          "model_module_version": "1.2.0",
          "model_name": "LayoutModel",
          "state": {
            "_model_module": "@jupyter-widgets/base",
            "_model_module_version": "1.2.0",
            "_model_name": "LayoutModel",
            "_view_count": null,
            "_view_module": "@jupyter-widgets/base",
            "_view_module_version": "1.2.0",
            "_view_name": "LayoutView",
            "align_content": null,
            "align_items": null,
            "align_self": null,
            "border": null,
            "bottom": null,
            "display": null,
            "flex": null,
            "flex_flow": null,
            "grid_area": null,
            "grid_auto_columns": null,
            "grid_auto_flow": null,
            "grid_auto_rows": null,
            "grid_column": null,
            "grid_gap": null,
            "grid_row": null,
            "grid_template_areas": null,
            "grid_template_columns": null,
            "grid_template_rows": null,
            "height": null,
            "justify_content": null,
            "justify_items": null,
            "left": null,
            "margin": null,
            "max_height": null,
            "max_width": null,
            "min_height": null,
            "min_width": null,
            "object_fit": null,
            "object_position": null,
            "order": null,
            "overflow": null,
            "overflow_x": null,
            "overflow_y": null,
            "padding": null,
            "right": null,
            "top": null,
            "visibility": null,
            "width": null
          }
        },
        "6a6ea080b4084643a5603f1618254621": {
          "model_module": "@jupyter-widgets/controls",
          "model_module_version": "1.5.0",
          "model_name": "FloatProgressModel",
          "state": {
            "_dom_classes": [],
            "_model_module": "@jupyter-widgets/controls",
            "_model_module_version": "1.5.0",
            "_model_name": "FloatProgressModel",
            "_view_count": null,
            "_view_module": "@jupyter-widgets/controls",
            "_view_module_version": "1.5.0",
            "_view_name": "ProgressView",
            "bar_style": "",
            "description": "",
            "description_tooltip": null,
            "layout": "IPY_MODEL_c73690d334134fa798c81c3389fa58f8",
            "max": 10000,
            "min": 0,
            "orientation": "horizontal",
            "style": "IPY_MODEL_8c7bbec41cd9416ab84f4ea00127b746",
            "value": 10000
          }
        },
        "7118d675304f46c09a6debaade235080": {
          "model_module": "@jupyter-widgets/base",
          "model_module_version": "1.2.0",
          "model_name": "LayoutModel",
          "state": {
            "_model_module": "@jupyter-widgets/base",
            "_model_module_version": "1.2.0",
            "_model_name": "LayoutModel",
            "_view_count": null,
            "_view_module": "@jupyter-widgets/base",
            "_view_module_version": "1.2.0",
            "_view_name": "LayoutView",
            "align_content": null,
            "align_items": null,
            "align_self": null,
            "border": null,
            "bottom": null,
            "display": null,
            "flex": null,
            "flex_flow": null,
            "grid_area": null,
            "grid_auto_columns": null,
            "grid_auto_flow": null,
            "grid_auto_rows": null,
            "grid_column": null,
            "grid_gap": null,
            "grid_row": null,
            "grid_template_areas": null,
            "grid_template_columns": null,
            "grid_template_rows": null,
            "height": null,
            "justify_content": null,
            "justify_items": null,
            "left": null,
            "margin": null,
            "max_height": null,
            "max_width": null,
            "min_height": null,
            "min_width": null,
            "object_fit": null,
            "object_position": null,
            "order": null,
            "overflow": null,
            "overflow_x": null,
            "overflow_y": null,
            "padding": null,
            "right": null,
            "top": null,
            "visibility": null,
            "width": null
          }
        },
        "7368456613684e7d87f0ef1cfcf4556f": {
          "model_module": "@jupyter-widgets/controls",
          "model_module_version": "1.5.0",
          "model_name": "ProgressStyleModel",
          "state": {
            "_model_module": "@jupyter-widgets/controls",
            "_model_module_version": "1.5.0",
            "_model_name": "ProgressStyleModel",
            "_view_count": null,
            "_view_module": "@jupyter-widgets/base",
            "_view_module_version": "1.2.0",
            "_view_name": "StyleView",
            "bar_color": null,
            "description_width": ""
          }
        },
        "78e3a976c24d45d59ca5ef684231b2c1": {
          "model_module": "@jupyter-widgets/controls",
          "model_module_version": "1.5.0",
          "model_name": "HTMLModel",
          "state": {
            "_dom_classes": [],
            "_model_module": "@jupyter-widgets/controls",
            "_model_module_version": "1.5.0",
            "_model_name": "HTMLModel",
            "_view_count": null,
            "_view_module": "@jupyter-widgets/controls",
            "_view_module_version": "1.5.0",
            "_view_name": "HTMLView",
            "description": "",
            "description_tooltip": null,
            "layout": "IPY_MODEL_5fb0beefcef54fb692e58a1c0ff8b9d1",
            "placeholder": "​",
            "style": "IPY_MODEL_cbf573f4f37f4173852f395857585d64",
            "value": "Generating test examples...: 100%"
          }
        },
        "7dc56c485b2f4b9eb9b74ecc85deb7e8": {
          "model_module": "@jupyter-widgets/controls",
          "model_module_version": "1.5.0",
          "model_name": "ProgressStyleModel",
          "state": {
            "_model_module": "@jupyter-widgets/controls",
            "_model_module_version": "1.5.0",
            "_model_name": "ProgressStyleModel",
            "_view_count": null,
            "_view_module": "@jupyter-widgets/base",
            "_view_module_version": "1.2.0",
            "_view_name": "StyleView",
            "bar_color": null,
            "description_width": ""
          }
        },
        "8093800090534821bb358e94271896c5": {
          "model_module": "@jupyter-widgets/controls",
          "model_module_version": "1.5.0",
          "model_name": "HTMLModel",
          "state": {
            "_dom_classes": [],
            "_model_module": "@jupyter-widgets/controls",
            "_model_module_version": "1.5.0",
            "_model_name": "HTMLModel",
            "_view_count": null,
            "_view_module": "@jupyter-widgets/controls",
            "_view_module_version": "1.5.0",
            "_view_name": "HTMLView",
            "description": "",
            "description_tooltip": null,
            "layout": "IPY_MODEL_a645d67e9cc54869b2b67a73cf0fb31d",
            "placeholder": "​",
            "style": "IPY_MODEL_f75059f823964935813061f0fb37e852",
            "value": " 6957/10000 [00:00&lt;00:00, 69558.13 examples/s]"
          }
        },
        "849aa3d3d9f5421dae1961551dbffbbe": {
          "model_module": "@jupyter-widgets/base",
          "model_module_version": "1.2.0",
          "model_name": "LayoutModel",
          "state": {
            "_model_module": "@jupyter-widgets/base",
            "_model_module_version": "1.2.0",
            "_model_name": "LayoutModel",
            "_view_count": null,
            "_view_module": "@jupyter-widgets/base",
            "_view_module_version": "1.2.0",
            "_view_name": "LayoutView",
            "align_content": null,
            "align_items": null,
            "align_self": null,
            "border": null,
            "bottom": null,
            "display": null,
            "flex": null,
            "flex_flow": null,
            "grid_area": null,
            "grid_auto_columns": null,
            "grid_auto_flow": null,
            "grid_auto_rows": null,
            "grid_column": null,
            "grid_gap": null,
            "grid_row": null,
            "grid_template_areas": null,
            "grid_template_columns": null,
            "grid_template_rows": null,
            "height": null,
            "justify_content": null,
            "justify_items": null,
            "left": null,
            "margin": null,
            "max_height": null,
            "max_width": null,
            "min_height": null,
            "min_width": null,
            "object_fit": null,
            "object_position": null,
            "order": null,
            "overflow": null,
            "overflow_x": null,
            "overflow_y": null,
            "padding": null,
            "right": null,
            "top": null,
            "visibility": null,
            "width": "20px"
          }
        },
        "88cefc4e598d42ca906abd18d0ef7373": {
          "model_module": "@jupyter-widgets/controls",
          "model_module_version": "1.5.0",
          "model_name": "HBoxModel",
          "state": {
            "_dom_classes": [],
            "_model_module": "@jupyter-widgets/controls",
            "_model_module_version": "1.5.0",
            "_model_name": "HBoxModel",
            "_view_count": null,
            "_view_module": "@jupyter-widgets/controls",
            "_view_module_version": "1.5.0",
            "_view_name": "HBoxView",
            "box_style": "",
            "children": [
              "IPY_MODEL_1fbbe91df52842bbac0da62d5431a57a",
              "IPY_MODEL_b87d7c131c9a4ec3a88b7d9aa10fc16c",
              "IPY_MODEL_f16324304426464480bf57f0496ff5c7"
            ],
            "layout": "IPY_MODEL_26a562b5d17b444db7bc2a9cfc16ac0a"
          }
        },
        "8c7bbec41cd9416ab84f4ea00127b746": {
          "model_module": "@jupyter-widgets/controls",
          "model_module_version": "1.5.0",
          "model_name": "ProgressStyleModel",
          "state": {
            "_model_module": "@jupyter-widgets/controls",
            "_model_module_version": "1.5.0",
            "_model_name": "ProgressStyleModel",
            "_view_count": null,
            "_view_module": "@jupyter-widgets/base",
            "_view_module_version": "1.2.0",
            "_view_name": "StyleView",
            "bar_color": null,
            "description_width": ""
          }
        },
        "8dc25370fcdf4e0fa2d1cb0ee8229301": {
          "model_module": "@jupyter-widgets/base",
          "model_module_version": "1.2.0",
          "model_name": "LayoutModel",
          "state": {
            "_model_module": "@jupyter-widgets/base",
            "_model_module_version": "1.2.0",
            "_model_name": "LayoutModel",
            "_view_count": null,
            "_view_module": "@jupyter-widgets/base",
            "_view_module_version": "1.2.0",
            "_view_name": "LayoutView",
            "align_content": null,
            "align_items": null,
            "align_self": null,
            "border": null,
            "bottom": null,
            "display": null,
            "flex": null,
            "flex_flow": null,
            "grid_area": null,
            "grid_auto_columns": null,
            "grid_auto_flow": null,
            "grid_auto_rows": null,
            "grid_column": null,
            "grid_gap": null,
            "grid_row": null,
            "grid_template_areas": null,
            "grid_template_columns": null,
            "grid_template_rows": null,
            "height": null,
            "justify_content": null,
            "justify_items": null,
            "left": null,
            "margin": null,
            "max_height": null,
            "max_width": null,
            "min_height": null,
            "min_width": null,
            "object_fit": null,
            "object_position": null,
            "order": null,
            "overflow": null,
            "overflow_x": null,
            "overflow_y": null,
            "padding": null,
            "right": null,
            "top": null,
            "visibility": null,
            "width": null
          }
        },
        "9be156b5e7e345cbb5eb0cdf51c4de09": {
          "model_module": "@jupyter-widgets/base",
          "model_module_version": "1.2.0",
          "model_name": "LayoutModel",
          "state": {
            "_model_module": "@jupyter-widgets/base",
            "_model_module_version": "1.2.0",
            "_model_name": "LayoutModel",
            "_view_count": null,
            "_view_module": "@jupyter-widgets/base",
            "_view_module_version": "1.2.0",
            "_view_name": "LayoutView",
            "align_content": null,
            "align_items": null,
            "align_self": null,
            "border": null,
            "bottom": null,
            "display": null,
            "flex": null,
            "flex_flow": null,
            "grid_area": null,
            "grid_auto_columns": null,
            "grid_auto_flow": null,
            "grid_auto_rows": null,
            "grid_column": null,
            "grid_gap": null,
            "grid_row": null,
            "grid_template_areas": null,
            "grid_template_columns": null,
            "grid_template_rows": null,
            "height": null,
            "justify_content": null,
            "justify_items": null,
            "left": null,
            "margin": null,
            "max_height": null,
            "max_width": null,
            "min_height": null,
            "min_width": null,
            "object_fit": null,
            "object_position": null,
            "order": null,
            "overflow": null,
            "overflow_x": null,
            "overflow_y": null,
            "padding": null,
            "right": null,
            "top": null,
            "visibility": null,
            "width": null
          }
        },
        "9e24e771b1024f2087873e272f8e7a9e": {
          "model_module": "@jupyter-widgets/controls",
          "model_module_version": "1.5.0",
          "model_name": "HTMLModel",
          "state": {
            "_dom_classes": [],
            "_model_module": "@jupyter-widgets/controls",
            "_model_module_version": "1.5.0",
            "_model_name": "HTMLModel",
            "_view_count": null,
            "_view_module": "@jupyter-widgets/controls",
            "_view_module_version": "1.5.0",
            "_view_name": "HTMLView",
            "description": "",
            "description_tooltip": null,
            "layout": "IPY_MODEL_619b5c928fa94a2da77354f023c5ee1f",
            "placeholder": "​",
            "style": "IPY_MODEL_3427178a4a2a4ad9b7230563b91ca916",
            "value": " 1/1 [01:55&lt;00:00, 115.63s/ splits]"
          }
        },
        "a0d244a0474e4718bfa8b7f2b3f36aee": {
          "model_module": "@jupyter-widgets/controls",
          "model_module_version": "1.5.0",
          "model_name": "HTMLModel",
          "state": {
            "_dom_classes": [],
            "_model_module": "@jupyter-widgets/controls",
            "_model_module_version": "1.5.0",
            "_model_name": "HTMLModel",
            "_view_count": null,
            "_view_module": "@jupyter-widgets/controls",
            "_view_module_version": "1.5.0",
            "_view_name": "HTMLView",
            "description": "",
            "description_tooltip": null,
            "layout": "IPY_MODEL_06ae6dc4c39842b3b348bd20141af96d",
            "placeholder": "​",
            "style": "IPY_MODEL_d3d200c15425456f825b6d67d00aed6b",
            "value": "Generating splits...: 100%"
          }
        },
        "a645d67e9cc54869b2b67a73cf0fb31d": {
          "model_module": "@jupyter-widgets/base",
          "model_module_version": "1.2.0",
          "model_name": "LayoutModel",
          "state": {
            "_model_module": "@jupyter-widgets/base",
            "_model_module_version": "1.2.0",
            "_model_name": "LayoutModel",
            "_view_count": null,
            "_view_module": "@jupyter-widgets/base",
            "_view_module_version": "1.2.0",
            "_view_name": "LayoutView",
            "align_content": null,
            "align_items": null,
            "align_self": null,
            "border": null,
            "bottom": null,
            "display": null,
            "flex": null,
            "flex_flow": null,
            "grid_area": null,
            "grid_auto_columns": null,
            "grid_auto_flow": null,
            "grid_auto_rows": null,
            "grid_column": null,
            "grid_gap": null,
            "grid_row": null,
            "grid_template_areas": null,
            "grid_template_columns": null,
            "grid_template_rows": null,
            "height": null,
            "justify_content": null,
            "justify_items": null,
            "left": null,
            "margin": null,
            "max_height": null,
            "max_width": null,
            "min_height": null,
            "min_width": null,
            "object_fit": null,
            "object_position": null,
            "order": null,
            "overflow": null,
            "overflow_x": null,
            "overflow_y": null,
            "padding": null,
            "right": null,
            "top": null,
            "visibility": null,
            "width": null
          }
        },
        "b2958ac3273743ad8af08d48319a2501": {
          "model_module": "@jupyter-widgets/controls",
          "model_module_version": "1.5.0",
          "model_name": "DescriptionStyleModel",
          "state": {
            "_model_module": "@jupyter-widgets/controls",
            "_model_module_version": "1.5.0",
            "_model_name": "DescriptionStyleModel",
            "_view_count": null,
            "_view_module": "@jupyter-widgets/base",
            "_view_module_version": "1.2.0",
            "_view_name": "StyleView",
            "description_width": ""
          }
        },
        "b87d7c131c9a4ec3a88b7d9aa10fc16c": {
          "model_module": "@jupyter-widgets/controls",
          "model_module_version": "1.5.0",
          "model_name": "FloatProgressModel",
          "state": {
            "_dom_classes": [],
            "_model_module": "@jupyter-widgets/controls",
            "_model_module_version": "1.5.0",
            "_model_name": "FloatProgressModel",
            "_view_count": null,
            "_view_module": "@jupyter-widgets/controls",
            "_view_module_version": "1.5.0",
            "_view_name": "ProgressView",
            "bar_style": "success",
            "description": "",
            "description_tooltip": null,
            "layout": "IPY_MODEL_fa3967d7032742a29f3bfc03e3fa675d",
            "max": 1,
            "min": 0,
            "orientation": "horizontal",
            "style": "IPY_MODEL_14aac7254b0b4b538cc66c73b1b51827",
            "value": 1
          }
        },
        "bb6f453b40cc4e37acce5d1f6642a0e6": {
          "model_module": "@jupyter-widgets/controls",
          "model_module_version": "1.5.0",
          "model_name": "HBoxModel",
          "state": {
            "_dom_classes": [],
            "_model_module": "@jupyter-widgets/controls",
            "_model_module_version": "1.5.0",
            "_model_name": "HBoxModel",
            "_view_count": null,
            "_view_module": "@jupyter-widgets/controls",
            "_view_module_version": "1.5.0",
            "_view_name": "HBoxView",
            "box_style": "",
            "children": [
              "IPY_MODEL_78e3a976c24d45d59ca5ef684231b2c1",
              "IPY_MODEL_6a6ea080b4084643a5603f1618254621",
              "IPY_MODEL_ef2d45008a2f4adca8ff962a659fd646"
            ],
            "layout": "IPY_MODEL_c4f7dbe73849490aba9c748d01424941"
          }
        },
        "c09088b1b8be4da7bd1157eeaab3bb33": {
          "model_module": "@jupyter-widgets/controls",
          "model_module_version": "1.5.0",
          "model_name": "FloatProgressModel",
          "state": {
            "_dom_classes": [],
            "_model_module": "@jupyter-widgets/controls",
            "_model_module_version": "1.5.0",
            "_model_name": "FloatProgressModel",
            "_view_count": null,
            "_view_module": "@jupyter-widgets/controls",
            "_view_module_version": "1.5.0",
            "_view_name": "ProgressView",
            "bar_style": "",
            "description": "",
            "description_tooltip": null,
            "layout": "IPY_MODEL_9be156b5e7e345cbb5eb0cdf51c4de09",
            "max": 1,
            "min": 0,
            "orientation": "horizontal",
            "style": "IPY_MODEL_7dc56c485b2f4b9eb9b74ecc85deb7e8",
            "value": 1
          }
        },
        "c4f7dbe73849490aba9c748d01424941": {
          "model_module": "@jupyter-widgets/base",
          "model_module_version": "1.2.0",
          "model_name": "LayoutModel",
          "state": {
            "_model_module": "@jupyter-widgets/base",
            "_model_module_version": "1.2.0",
            "_model_name": "LayoutModel",
            "_view_count": null,
            "_view_module": "@jupyter-widgets/base",
            "_view_module_version": "1.2.0",
            "_view_name": "LayoutView",
            "align_content": null,
            "align_items": null,
            "align_self": null,
            "border": null,
            "bottom": null,
            "display": null,
            "flex": null,
            "flex_flow": null,
            "grid_area": null,
            "grid_auto_columns": null,
            "grid_auto_flow": null,
            "grid_auto_rows": null,
            "grid_column": null,
            "grid_gap": null,
            "grid_row": null,
            "grid_template_areas": null,
            "grid_template_columns": null,
            "grid_template_rows": null,
            "height": null,
            "justify_content": null,
            "justify_items": null,
            "left": null,
            "margin": null,
            "max_height": null,
            "max_width": null,
            "min_height": null,
            "min_width": null,
            "object_fit": null,
            "object_position": null,
            "order": null,
            "overflow": null,
            "overflow_x": null,
            "overflow_y": null,
            "padding": null,
            "right": null,
            "top": null,
            "visibility": "hidden",
            "width": null
          }
        },
        "c73690d334134fa798c81c3389fa58f8": {
          "model_module": "@jupyter-widgets/base",
          "model_module_version": "1.2.0",
          "model_name": "LayoutModel",
          "state": {
            "_model_module": "@jupyter-widgets/base",
            "_model_module_version": "1.2.0",
            "_model_name": "LayoutModel",
            "_view_count": null,
            "_view_module": "@jupyter-widgets/base",
            "_view_module_version": "1.2.0",
            "_view_name": "LayoutView",
            "align_content": null,
            "align_items": null,
            "align_self": null,
            "border": null,
            "bottom": null,
            "display": null,
            "flex": null,
            "flex_flow": null,
            "grid_area": null,
            "grid_auto_columns": null,
            "grid_auto_flow": null,
            "grid_auto_rows": null,
            "grid_column": null,
            "grid_gap": null,
            "grid_row": null,
            "grid_template_areas": null,
            "grid_template_columns": null,
            "grid_template_rows": null,
            "height": null,
            "justify_content": null,
            "justify_items": null,
            "left": null,
            "margin": null,
            "max_height": null,
            "max_width": null,
            "min_height": null,
            "min_width": null,
            "object_fit": null,
            "object_position": null,
            "order": null,
            "overflow": null,
            "overflow_x": null,
            "overflow_y": null,
            "padding": null,
            "right": null,
            "top": null,
            "visibility": null,
            "width": null
          }
        },
        "cbf573f4f37f4173852f395857585d64": {
          "model_module": "@jupyter-widgets/controls",
          "model_module_version": "1.5.0",
          "model_name": "DescriptionStyleModel",
          "state": {
            "_model_module": "@jupyter-widgets/controls",
            "_model_module_version": "1.5.0",
            "_model_name": "DescriptionStyleModel",
            "_view_count": null,
            "_view_module": "@jupyter-widgets/base",
            "_view_module_version": "1.2.0",
            "_view_name": "StyleView",
            "description_width": ""
          }
        },
        "d2d516e478fd426cbf48622bee161395": {
          "model_module": "@jupyter-widgets/controls",
          "model_module_version": "1.5.0",
          "model_name": "HBoxModel",
          "state": {
            "_dom_classes": [],
            "_model_module": "@jupyter-widgets/controls",
            "_model_module_version": "1.5.0",
            "_model_name": "HBoxModel",
            "_view_count": null,
            "_view_module": "@jupyter-widgets/controls",
            "_view_module_version": "1.5.0",
            "_view_name": "HBoxView",
            "box_style": "",
            "children": [
              "IPY_MODEL_31461e5d8670472daf31e253b6748b48",
              "IPY_MODEL_3490d13814154c3c93d841df5095f8c9",
              "IPY_MODEL_5a9caf0df396430d97e3d431368f63a9"
            ],
            "layout": "IPY_MODEL_42c97a2f482340b6afcda0042647b79a"
          }
        },
        "d3d200c15425456f825b6d67d00aed6b": {
          "model_module": "@jupyter-widgets/controls",
          "model_module_version": "1.5.0",
          "model_name": "DescriptionStyleModel",
          "state": {
            "_model_module": "@jupyter-widgets/controls",
            "_model_module_version": "1.5.0",
            "_model_name": "DescriptionStyleModel",
            "_view_count": null,
            "_view_module": "@jupyter-widgets/base",
            "_view_module_version": "1.2.0",
            "_view_name": "StyleView",
            "description_width": ""
          }
        },
        "e6820f273f02473ca3523a60fa5caf82": {
          "model_module": "@jupyter-widgets/controls",
          "model_module_version": "1.5.0",
          "model_name": "DescriptionStyleModel",
          "state": {
            "_model_module": "@jupyter-widgets/controls",
            "_model_module_version": "1.5.0",
            "_model_name": "DescriptionStyleModel",
            "_view_count": null,
            "_view_module": "@jupyter-widgets/base",
            "_view_module_version": "1.2.0",
            "_view_name": "StyleView",
            "description_width": ""
          }
        },
        "e771b2e26da0439ea40cedfc7772c147": {
          "model_module": "@jupyter-widgets/controls",
          "model_module_version": "1.5.0",
          "model_name": "HBoxModel",
          "state": {
            "_dom_classes": [],
            "_model_module": "@jupyter-widgets/controls",
            "_model_module_version": "1.5.0",
            "_model_name": "HBoxModel",
            "_view_count": null,
            "_view_module": "@jupyter-widgets/controls",
            "_view_module_version": "1.5.0",
            "_view_name": "HBoxView",
            "box_style": "",
            "children": [
              "IPY_MODEL_a0d244a0474e4718bfa8b7f2b3f36aee",
              "IPY_MODEL_c09088b1b8be4da7bd1157eeaab3bb33",
              "IPY_MODEL_9e24e771b1024f2087873e272f8e7a9e"
            ],
            "layout": "IPY_MODEL_ebf2da2c74ed4ece9c1003d7b0c9b682"
          }
        },
        "ebf2da2c74ed4ece9c1003d7b0c9b682": {
          "model_module": "@jupyter-widgets/base",
          "model_module_version": "1.2.0",
          "model_name": "LayoutModel",
          "state": {
            "_model_module": "@jupyter-widgets/base",
            "_model_module_version": "1.2.0",
            "_model_name": "LayoutModel",
            "_view_count": null,
            "_view_module": "@jupyter-widgets/base",
            "_view_module_version": "1.2.0",
            "_view_name": "LayoutView",
            "align_content": null,
            "align_items": null,
            "align_self": null,
            "border": null,
            "bottom": null,
            "display": null,
            "flex": null,
            "flex_flow": null,
            "grid_area": null,
            "grid_auto_columns": null,
            "grid_auto_flow": null,
            "grid_auto_rows": null,
            "grid_column": null,
            "grid_gap": null,
            "grid_row": null,
            "grid_template_areas": null,
            "grid_template_columns": null,
            "grid_template_rows": null,
            "height": null,
            "justify_content": null,
            "justify_items": null,
            "left": null,
            "margin": null,
            "max_height": null,
            "max_width": null,
            "min_height": null,
            "min_width": null,
            "object_fit": null,
            "object_position": null,
            "order": null,
            "overflow": null,
            "overflow_x": null,
            "overflow_y": null,
            "padding": null,
            "right": null,
            "top": null,
            "visibility": "hidden",
            "width": null
          }
        },
        "ef2d45008a2f4adca8ff962a659fd646": {
          "model_module": "@jupyter-widgets/controls",
          "model_module_version": "1.5.0",
          "model_name": "HTMLModel",
          "state": {
            "_dom_classes": [],
            "_model_module": "@jupyter-widgets/controls",
            "_model_module_version": "1.5.0",
            "_model_name": "HTMLModel",
            "_view_count": null,
            "_view_module": "@jupyter-widgets/controls",
            "_view_module_version": "1.5.0",
            "_view_name": "HTMLView",
            "description": "",
            "description_tooltip": null,
            "layout": "IPY_MODEL_8dc25370fcdf4e0fa2d1cb0ee8229301",
            "placeholder": "​",
            "style": "IPY_MODEL_3f22e279ce65404e9eb7c9bc0ded8638",
            "value": " 10000/10000 [01:55&lt;00:00, 94.84 examples/s]"
          }
        },
        "f16324304426464480bf57f0496ff5c7": {
          "model_module": "@jupyter-widgets/controls",
          "model_module_version": "1.5.0",
          "model_name": "HTMLModel",
          "state": {
            "_dom_classes": [],
            "_model_module": "@jupyter-widgets/controls",
            "_model_module_version": "1.5.0",
            "_model_name": "HTMLModel",
            "_view_count": null,
            "_view_module": "@jupyter-widgets/controls",
            "_view_module_version": "1.5.0",
            "_view_name": "HTMLView",
            "description": "",
            "description_tooltip": null,
            "layout": "IPY_MODEL_15a2ad4b32104723b41b027cb7506471",
            "placeholder": "​",
            "style": "IPY_MODEL_e6820f273f02473ca3523a60fa5caf82",
            "value": " 781/781 [00:10&lt;00:00, 77.09 MiB/s]"
          }
        },
        "f75059f823964935813061f0fb37e852": {
          "model_module": "@jupyter-widgets/controls",
          "model_module_version": "1.5.0",
          "model_name": "DescriptionStyleModel",
          "state": {
            "_model_module": "@jupyter-widgets/controls",
            "_model_module_version": "1.5.0",
            "_model_name": "DescriptionStyleModel",
            "_view_count": null,
            "_view_module": "@jupyter-widgets/base",
            "_view_module_version": "1.2.0",
            "_view_name": "StyleView",
            "description_width": ""
          }
        },
        "fa3967d7032742a29f3bfc03e3fa675d": {
          "model_module": "@jupyter-widgets/base",
          "model_module_version": "1.2.0",
          "model_name": "LayoutModel",
          "state": {
            "_model_module": "@jupyter-widgets/base",
            "_model_module_version": "1.2.0",
            "_model_name": "LayoutModel",
            "_view_count": null,
            "_view_module": "@jupyter-widgets/base",
            "_view_module_version": "1.2.0",
            "_view_name": "LayoutView",
            "align_content": null,
            "align_items": null,
            "align_self": null,
            "border": null,
            "bottom": null,
            "display": null,
            "flex": null,
            "flex_flow": null,
            "grid_area": null,
            "grid_auto_columns": null,
            "grid_auto_flow": null,
            "grid_auto_rows": null,
            "grid_column": null,
            "grid_gap": null,
            "grid_row": null,
            "grid_template_areas": null,
            "grid_template_columns": null,
            "grid_template_rows": null,
            "height": null,
            "justify_content": null,
            "justify_items": null,
            "left": null,
            "margin": null,
            "max_height": null,
            "max_width": null,
            "min_height": null,
            "min_width": null,
            "object_fit": null,
            "object_position": null,
            "order": null,
            "overflow": null,
            "overflow_x": null,
            "overflow_y": null,
            "padding": null,
            "right": null,
            "top": null,
            "visibility": null,
            "width": "20px"
          }
        }
      }
    }
  },
  "nbformat": 4,
  "nbformat_minor": 0
}